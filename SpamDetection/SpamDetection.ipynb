{
 "cells": [
  {
   "cell_type": "code",
   "execution_count": 17,
   "id": "bb8074c1",
   "metadata": {},
   "outputs": [],
   "source": [
    "import numpy as np\n",
    "import pandas as pd\n",
    "from sklearn.model_selection import train_test_split\n",
    "from sklearn.feature_extraction.text import TfidfVectorizer\n",
    "from sklearn.linear_model import LogisticRegression\n",
    "from sklearn.metrics import accuracy_score"
   ]
  },
  {
   "cell_type": "markdown",
   "id": "1e362919",
   "metadata": {},
   "source": [
    "Data Collection and Pre-Processing"
   ]
  },
  {
   "cell_type": "code",
   "execution_count": 25,
   "id": "5b51e326",
   "metadata": {},
   "outputs": [
    {
     "data": {
      "text/html": [
       "<div>\n",
       "<style scoped>\n",
       "    .dataframe tbody tr th:only-of-type {\n",
       "        vertical-align: middle;\n",
       "    }\n",
       "\n",
       "    .dataframe tbody tr th {\n",
       "        vertical-align: top;\n",
       "    }\n",
       "\n",
       "    .dataframe thead th {\n",
       "        text-align: right;\n",
       "    }\n",
       "</style>\n",
       "<table border=\"1\" class=\"dataframe\">\n",
       "  <thead>\n",
       "    <tr style=\"text-align: right;\">\n",
       "      <th></th>\n",
       "      <th>Category</th>\n",
       "      <th>Message</th>\n",
       "    </tr>\n",
       "  </thead>\n",
       "  <tbody>\n",
       "    <tr>\n",
       "      <th>0</th>\n",
       "      <td>ham</td>\n",
       "      <td>Go until jurong point, crazy.. Available only ...</td>\n",
       "    </tr>\n",
       "    <tr>\n",
       "      <th>1</th>\n",
       "      <td>ham</td>\n",
       "      <td>Ok lar... Joking wif u oni...</td>\n",
       "    </tr>\n",
       "    <tr>\n",
       "      <th>2</th>\n",
       "      <td>spam</td>\n",
       "      <td>Free entry in 2 a wkly comp to win FA Cup fina...</td>\n",
       "    </tr>\n",
       "    <tr>\n",
       "      <th>3</th>\n",
       "      <td>ham</td>\n",
       "      <td>U dun say so early hor... U c already then say...</td>\n",
       "    </tr>\n",
       "    <tr>\n",
       "      <th>4</th>\n",
       "      <td>ham</td>\n",
       "      <td>Nah I don't think he goes to usf, he lives aro...</td>\n",
       "    </tr>\n",
       "  </tbody>\n",
       "</table>\n",
       "</div>"
      ],
      "text/plain": [
       "  Category                                            Message\n",
       "0      ham  Go until jurong point, crazy.. Available only ...\n",
       "1      ham                      Ok lar... Joking wif u oni...\n",
       "2     spam  Free entry in 2 a wkly comp to win FA Cup fina...\n",
       "3      ham  U dun say so early hor... U c already then say...\n",
       "4      ham  Nah I don't think he goes to usf, he lives aro..."
      ]
     },
     "execution_count": 25,
     "metadata": {},
     "output_type": "execute_result"
    }
   ],
   "source": [
    "# load data into a dataframe\n",
    "mail_data = pd.read_csv('./mail_data.csv')\n",
    "mail_data.head()"
   ]
  },
  {
   "cell_type": "code",
   "execution_count": 32,
   "id": "cab63b3c",
   "metadata": {},
   "outputs": [
    {
     "data": {
      "text/plain": [
       "Category    0\n",
       "Message     0\n",
       "dtype: int64"
      ]
     },
     "execution_count": 32,
     "metadata": {},
     "output_type": "execute_result"
    }
   ],
   "source": [
    "# check if data is missing\n",
    "mail_data.isna().sum()"
   ]
  },
  {
   "cell_type": "code",
   "execution_count": 33,
   "id": "718cc745",
   "metadata": {},
   "outputs": [
    {
     "data": {
      "text/plain": [
       "(5572, 2)"
      ]
     },
     "execution_count": 33,
     "metadata": {},
     "output_type": "execute_result"
    }
   ],
   "source": [
    "#check number of rows and column of dataframe\n",
    "mail_data.shape"
   ]
  },
  {
   "cell_type": "code",
   "execution_count": 34,
   "id": "80a53203",
   "metadata": {},
   "outputs": [],
   "source": [
    "# Label encode the category column. spam = 1 ham = 0\n",
    "mail_data['Category'] = mail_data['Category'].map({'ham' : 0, 'spam': 1})"
   ]
  },
  {
   "cell_type": "code",
   "execution_count": 47,
   "id": "e0498e81",
   "metadata": {},
   "outputs": [
    {
     "data": {
      "text/plain": [
       "dtype('int64')"
      ]
     },
     "execution_count": 47,
     "metadata": {},
     "output_type": "execute_result"
    }
   ],
   "source": [
    "mail_data['Category'].dtype"
   ]
  },
  {
   "cell_type": "code",
   "execution_count": 36,
   "id": "c746f058",
   "metadata": {},
   "outputs": [
    {
     "data": {
      "text/html": [
       "<div>\n",
       "<style scoped>\n",
       "    .dataframe tbody tr th:only-of-type {\n",
       "        vertical-align: middle;\n",
       "    }\n",
       "\n",
       "    .dataframe tbody tr th {\n",
       "        vertical-align: top;\n",
       "    }\n",
       "\n",
       "    .dataframe thead th {\n",
       "        text-align: right;\n",
       "    }\n",
       "</style>\n",
       "<table border=\"1\" class=\"dataframe\">\n",
       "  <thead>\n",
       "    <tr style=\"text-align: right;\">\n",
       "      <th></th>\n",
       "      <th>Category</th>\n",
       "      <th>Message</th>\n",
       "    </tr>\n",
       "  </thead>\n",
       "  <tbody>\n",
       "    <tr>\n",
       "      <th>0</th>\n",
       "      <td>0</td>\n",
       "      <td>Go until jurong point, crazy.. Available only ...</td>\n",
       "    </tr>\n",
       "    <tr>\n",
       "      <th>1</th>\n",
       "      <td>0</td>\n",
       "      <td>Ok lar... Joking wif u oni...</td>\n",
       "    </tr>\n",
       "    <tr>\n",
       "      <th>2</th>\n",
       "      <td>1</td>\n",
       "      <td>Free entry in 2 a wkly comp to win FA Cup fina...</td>\n",
       "    </tr>\n",
       "    <tr>\n",
       "      <th>3</th>\n",
       "      <td>0</td>\n",
       "      <td>U dun say so early hor... U c already then say...</td>\n",
       "    </tr>\n",
       "    <tr>\n",
       "      <th>4</th>\n",
       "      <td>0</td>\n",
       "      <td>Nah I don't think he goes to usf, he lives aro...</td>\n",
       "    </tr>\n",
       "  </tbody>\n",
       "</table>\n",
       "</div>"
      ],
      "text/plain": [
       "   Category                                            Message\n",
       "0         0  Go until jurong point, crazy.. Available only ...\n",
       "1         0                      Ok lar... Joking wif u oni...\n",
       "2         1  Free entry in 2 a wkly comp to win FA Cup fina...\n",
       "3         0  U dun say so early hor... U c already then say...\n",
       "4         0  Nah I don't think he goes to usf, he lives aro..."
      ]
     },
     "execution_count": 36,
     "metadata": {},
     "output_type": "execute_result"
    }
   ],
   "source": [
    "mail_data.head()"
   ]
  },
  {
   "cell_type": "markdown",
   "id": "a6fdb9e6",
   "metadata": {},
   "source": [
    "Split Data into X and Y values for predictions"
   ]
  },
  {
   "cell_type": "code",
   "execution_count": 40,
   "id": "9df77011",
   "metadata": {},
   "outputs": [],
   "source": [
    "X = mail_data['Message']\n",
    "y = mail_data['Category']"
   ]
  },
  {
   "cell_type": "code",
   "execution_count": 41,
   "id": "94caf1e2",
   "metadata": {},
   "outputs": [
    {
     "data": {
      "text/plain": [
       "(4457,)"
      ]
     },
     "execution_count": 41,
     "metadata": {},
     "output_type": "execute_result"
    }
   ],
   "source": [
    "# split into train and test sets\n",
    "X_train, X_test, y_train, y_test = train_test_split(X, y, test_size=.2, random_state=4)\n",
    "X_train.shape"
   ]
  },
  {
   "cell_type": "markdown",
   "id": "3c942c3e",
   "metadata": {},
   "source": [
    "Feature Extraction"
   ]
  },
  {
   "cell_type": "code",
   "execution_count": 50,
   "id": "76a43b51",
   "metadata": {},
   "outputs": [],
   "source": [
    "# transform test into feature vectors\n",
    "feature_extraction = TfidfVectorizer(min_df = 1, stop_words='english', lowercase='True')\n",
    "X_train_features = feature_extraction.fit_transform(X_train)\n",
    "X_test_features = feature_extraction.transform(X_test)"
   ]
  },
  {
   "cell_type": "code",
   "execution_count": 53,
   "id": "53f50438",
   "metadata": {},
   "outputs": [
    {
     "name": "stdout",
     "output_type": "stream",
     "text": [
      "  (0, 4076)\t0.21814163878169243\n",
      "  (0, 4189)\t0.40714919169918795\n",
      "  (0, 5531)\t0.3423416769137198\n",
      "  (0, 1705)\t0.3274543662048457\n",
      "  (0, 4787)\t0.29950623963635054\n",
      "  (0, 7166)\t0.23411798769212422\n",
      "  (0, 6220)\t0.40714919169918795\n",
      "  (0, 3094)\t0.1960160348955552\n",
      "  (0, 3189)\t0.2695003791316419\n",
      "  (0, 3068)\t0.20722043882108684\n",
      "  (0, 6023)\t0.31295501407186926\n",
      "  (1, 5240)\t0.49842861309340514\n",
      "  (1, 5773)\t0.7151217422337083\n",
      "  (1, 4061)\t0.4900712309801611\n",
      "  (2, 4744)\t0.18868130288704416\n",
      "  (2, 3339)\t0.25960869981277335\n",
      "  (2, 5823)\t0.25061469947311094\n",
      "  (2, 312)\t0.1771020551801762\n",
      "  (2, 299)\t0.19209527463945028\n",
      "  (2, 407)\t0.2722850313233416\n",
      "  (2, 7114)\t0.2722850313233416\n",
      "  (2, 1408)\t0.18464166862372272\n",
      "  (2, 5092)\t0.18560370392241915\n",
      "  (2, 2034)\t0.18192137275151332\n",
      "  (2, 5687)\t0.20537868697819087\n",
      "  :\t:\n",
      "  (4454, 2350)\t0.3603401295867597\n",
      "  (4455, 1263)\t0.36319212343381085\n",
      "  (4455, 1810)\t0.36319212343381085\n",
      "  (4455, 6428)\t0.36319212343381085\n",
      "  (4455, 6158)\t0.34628357823652833\n",
      "  (4455, 3285)\t0.31737822930144755\n",
      "  (4455, 1353)\t0.324981330584005\n",
      "  (4455, 1268)\t0.27394793268337375\n",
      "  (4455, 2856)\t0.2516758365847381\n",
      "  (4455, 3483)\t0.24151640507435573\n",
      "  (4455, 4470)\t0.2851349711027913\n",
      "  (4456, 64)\t0.3385457318047022\n",
      "  (4456, 671)\t0.3385457318047022\n",
      "  (4456, 4228)\t0.3385457318047022\n",
      "  (4456, 4684)\t0.3385457318047022\n",
      "  (4456, 7279)\t0.26022300036687795\n",
      "  (4456, 6601)\t0.23884175715781628\n",
      "  (4456, 6067)\t0.22409034559050645\n",
      "  (4456, 2954)\t0.28984868954690285\n",
      "  (4456, 5530)\t0.18242204471967008\n",
      "  (4456, 5843)\t0.2629048714492601\n",
      "  (4456, 2071)\t0.21839161745326238\n",
      "  (4456, 6297)\t0.18384868970948873\n",
      "  (4456, 4123)\t0.2688969723960437\n",
      "  (4456, 3078)\t0.16235582628660974\n"
     ]
    }
   ],
   "source": [
    "print(X_train_features)"
   ]
  },
  {
   "cell_type": "markdown",
   "id": "5b9b0940",
   "metadata": {},
   "source": [
    "Build and Train the Model"
   ]
  },
  {
   "cell_type": "code",
   "execution_count": 55,
   "id": "9a26d069",
   "metadata": {},
   "outputs": [],
   "source": [
    "model = LogisticRegression()\n"
   ]
  },
  {
   "cell_type": "code",
   "execution_count": 56,
   "id": "3f352bcd",
   "metadata": {},
   "outputs": [
    {
     "data": {
      "text/plain": [
       "LogisticRegression()"
      ]
     },
     "execution_count": 56,
     "metadata": {},
     "output_type": "execute_result"
    }
   ],
   "source": [
    "model.fit(X_train_features, y_train)"
   ]
  },
  {
   "cell_type": "markdown",
   "id": "08e82e73",
   "metadata": {},
   "source": [
    "Evaluate the trained model"
   ]
  },
  {
   "cell_type": "code",
   "execution_count": 65,
   "id": "8ce771dc",
   "metadata": {},
   "outputs": [
    {
     "name": "stdout",
     "output_type": "stream",
     "text": [
      "Accuracy of model on training data 0.9685887368184878\n"
     ]
    }
   ],
   "source": [
    "prediction_on_training_data = model.predict(X_train_features)\n",
    "acc_on_training_data = accuracy_score(prediction_on_training_data, y_train)\n",
    "# display accuracy score on training data\n",
    "print('Accuracy of model on training data', accuracy_on_training_data)"
   ]
  },
  {
   "cell_type": "code",
   "execution_count": 64,
   "id": "b69d4ef0",
   "metadata": {},
   "outputs": [
    {
     "name": "stdout",
     "output_type": "stream",
     "text": [
      "Accuracy of model on test data:  95.06726457399103\n"
     ]
    }
   ],
   "source": [
    "prediction_on_test_data = model.predict(X_test_features)\n",
    "acc_on_test_data = accuracy_score(prediction_on_test_data, y_test)\n",
    "# display accuracy score on test data\n",
    "print('Accuracy of model on test data: ', acc_on_test_data * 100)"
   ]
  },
  {
   "cell_type": "markdown",
   "id": "8de4e12c",
   "metadata": {},
   "source": [
    "Build a predictive model"
   ]
  },
  {
   "cell_type": "code",
   "execution_count": 74,
   "id": "7e3039e2",
   "metadata": {},
   "outputs": [
    {
     "name": "stdout",
     "output_type": "stream",
     "text": [
      "Email is not spam\n"
     ]
    }
   ],
   "source": [
    "input_list = [\"Go until jurong point, crazy.. Available only in bugis n great world la e buffet... Cine there got amore wat...\"]\n",
    "#convert to feature vectors\n",
    "input_data_features = feature_extraction.transform(input_list)\n",
    "\n",
    "# make prediction\n",
    "prediction = model.predict(input_data_features)\n",
    "\n",
    "if prediction[0] == 1:\n",
    "    print('Email is  spam')\n",
    "else:\n",
    "    print('Email is not spam')"
   ]
  },
  {
   "cell_type": "code",
   "execution_count": null,
   "id": "be8cada0",
   "metadata": {},
   "outputs": [],
   "source": []
  },
  {
   "cell_type": "code",
   "execution_count": null,
   "id": "4c78124c",
   "metadata": {},
   "outputs": [],
   "source": []
  },
  {
   "cell_type": "code",
   "execution_count": null,
   "id": "20ed4709",
   "metadata": {},
   "outputs": [],
   "source": []
  }
 ],
 "metadata": {
  "kernelspec": {
   "display_name": "Python 3 (ipykernel)",
   "language": "python",
   "name": "python3"
  },
  "language_info": {
   "codemirror_mode": {
    "name": "ipython",
    "version": 3
   },
   "file_extension": ".py",
   "mimetype": "text/x-python",
   "name": "python",
   "nbconvert_exporter": "python",
   "pygments_lexer": "ipython3",
   "version": "3.9.13"
  }
 },
 "nbformat": 4,
 "nbformat_minor": 5
}
